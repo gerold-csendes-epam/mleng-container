{
 "metadata": {
  "language_info": {
   "codemirror_mode": {
    "name": "ipython",
    "version": 3
   },
   "file_extension": ".py",
   "mimetype": "text/x-python",
   "name": "python",
   "nbconvert_exporter": "python",
   "pygments_lexer": "ipython3",
   "version": 3
  },
  "orig_nbformat": 2
 },
 "nbformat": 4,
 "nbformat_minor": 2,
 "cells": [
  {
   "cell_type": "code",
   "execution_count": null,
   "metadata": {},
   "outputs": [],
   "source": [
    "import pathlib\n",
    "\n",
    "import numpy as np\n",
    "\n",
    "from tensorflow import keras\n",
    "from tensorflow.keras.datasets import cifar10 \n",
    "from tensorflow.keras.applications import ResNet152\n",
    "from tensorflow.keras import layers, models, losses, Model\n",
    "from tensorflow.keras.callbacks import EarlyStopping\n",
    "\n",
    "from matplotlib import pyplot\n",
    "from livelossplot import PlotLossesKeras"
   ]
  },
  {
   "cell_type": "code",
   "execution_count": null,
   "metadata": {},
   "outputs": [],
   "source": [
    "root_dir = pathlib.Path.cwd()\n",
    "data_dir = root_dir.joinpath(\"data\", \"raw\")\n",
    "\n",
    "X_train = np.load(data_dir.joinpath(data_dir, \"X_train.npy\"))\n",
    "y_train = np.load(data_dir.joinpath(data_dir, \"y_train.npy\"))\n",
    "X_test = np.load(data_dir.joinpath(data_dir, \"X_test.npy\"))\n",
    "y_test = np.load(data_dir.joinpath(data_dir, \"y_test.npy\"))"
   ]
  },
  {
   "cell_type": "code",
   "execution_count": null,
   "metadata": {},
   "outputs": [],
   "source": [
    "for i in range(9):\n",
    "\t# define subplot\n",
    "\tpyplot.subplot(330 + 1 + i)\n",
    "\t# plot raw pixel data\n",
    "\tpyplot.imshow(X_train[i])\n",
    "# show the figure\n",
    "pyplot.show()\n",
    "\n",
    "print(\"Labels: \")\n",
    "print(y_train[:3].flatten())\n",
    "print(y_train[3:6].flatten())\n",
    "print(y_train[6:9].flatten())\n",
    "\n",
    "print(f\"Image size: {X_train.shape}\")"
   ]
  },
  {
   "cell_type": "code",
   "execution_count": null,
   "metadata": {},
   "outputs": [],
   "source": [
    "# import model\n",
    "base_resnet = ResNet152(weights='imagenet', include_top=False, input_shape=(32,32,3))\n",
    "# the resnet layers should be frozen = not trained\n",
    "for layer in base_resnet.layers:\n",
    "  layer.trainable = False\n",
    "\n",
    "# Functional model API\n",
    "type(base_resnet)\n",
    "\n",
    "# Add head aka last layer\n",
    "x = layers.Flatten()(base_resnet.output)\n",
    "x = layers.Dense(256, activation='relu')(x)\n",
    "x = layers.Dropout(0.2)(x)\n",
    "x = layers.Dense(256, activation='relu')(x)\n",
    "x = layers.Dropout(0.2)(x)\n",
    "x = layers.Dense(256, activation='relu')(x)\n",
    "x = layers.Dropout(0.2)(x)\n",
    "x = layers.Dense(256, activation='relu')(x)\n",
    "x = layers.Dropout(0.2)(x)\n",
    "predictions = layers.Dense(10, activation = 'softmax')(x)\n",
    "\n",
    "# put model together\n",
    "head_model = Model(inputs = base_resnet.input, outputs = predictions)\n",
    "head_model.compile(optimizer='adam', loss=losses.sparse_categorical_crossentropy, metrics=['accuracy'])"
   ]
  },
  {
   "cell_type": "code",
   "execution_count": null,
   "metadata": {},
   "outputs": [],
   "source": [
    "es = EarlyStopping(monitor='loss', min_delta=0.01, patience=3)\n",
    "\n",
    "head_model.fit(X_train, y_train,\n",
    "          epochs=2,\n",
    "          batch_size=32,\n",
    "          validation_split=0.2,\n",
    "          callbacks=[es, PlotLossesKeras()],\n",
    "          verbose=1)"
   ]
  },
  {
   "cell_type": "code",
   "execution_count": null,
   "metadata": {},
   "outputs": [],
   "source": [
    "# evaluate and save model\n",
    "head_model.evaluate(X_test, y_test)\n",
    "\n",
    "head_model.save(root_dir.joinpath(\"models\", \"resnet-transfer\"))"
   ]
  }
 ]
}